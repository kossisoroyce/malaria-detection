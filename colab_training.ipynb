{
 "cells": [
  {
   "cell_type": "markdown",
   "metadata": {
    "id": "malaria-detection-title"
   },
   "source": [
    "# YOLOv8 Malaria Detection Training\n",
    "## Clinical Parasite Detection in Microscope Images\n",
    "\n",
    "This notebook trains a YOLOv8 model for malaria parasite detection using the Kaggle cell dataset."
   ]
  },
  {
   "cell_type": "markdown",
   "metadata": {},
   "source": [
    "## 1. Setup Environment"
   ]
  },
  {
   "cell_type": "code",
   "execution_count": null,
   "metadata": {},
   "outputs": [],
   "source": [
    "# Check GPU availability\n",
    "!nvidia-smi\n",
    "import torch\n",
    "print(f\"CUDA available: {torch.cuda.is_available()}\")\n",
    "print(f\"GPU count: {torch.cuda.device_count()}\")\n",
    "if torch.cuda.is_available():\n",
    "    print(f\"GPU name: {torch.cuda.get_device_name(0)}\")"
   ]
  },
  {
   "cell_type": "code",
   "execution_count": null,
   "metadata": {},
   "outputs": [],
   "source": [
    "# Install dependencies\n",
    "!pip install ultralytics kagglehub wandb -q\n",
    "!pip install opencv-python matplotlib seaborn scikit-learn -q"
   ]
  },
  {
   "cell_type": "code",
   "execution_count": null,
   "metadata": {},
   "outputs": [],
   "source": [
    "# Import libraries\n",
    "import os\n",
    "import shutil\n",
    "import random\n",
    "import cv2\n",
    "import numpy as np\n",
    "import matplotlib.pyplot as plt\n",
    "from pathlib import Path\n",
    "from ultralytics import YOLO\n",
    "import kagglehub\n",
    "import yaml\n",
    "from PIL import Image\n",
    "import torch\n",
    "\n",
    "# Set random seeds\n",
    "random.seed(42)\n",
    "np.random.seed(42)\n",
    "torch.manual_seed(42)"
   ]
  },
  {
   "cell_type": "markdown",
   "metadata": {},
   "source": [
    "## 2. Download and Prepare Dataset"
   ]
  },
  {
   "cell_type": "code",
   "execution_count": null,
   "metadata": {},
   "outputs": [],
   "source": [
    "# Download Kaggle dataset\n",
    "print(\"Downloading Kaggle malaria dataset...\")\n",
    "kaggle_path = kagglehub.dataset_download(\"iarunava/cell-images-for-detecting-malaria\")\n",
    "print(f\"Dataset downloaded to: {kaggle_path}\")"
   ]
  },
  {
   "cell_type": "code",
   "execution_count": null,
   "metadata": {},
   "outputs": [],
   "source": [
    "def generate_cell_bbox(image_path, padding_ratio=0.1):\n",
    "    \"\"\"Generate bounding box for cell using contour detection.\"\"\"\n",
    "    image = cv2.imread(image_path)\n",
    "    if image is None:\n",
    "        return (0.5, 0.5, 0.8, 0.8)\n",
    "    \n",
    "    h, w = image.shape[:2]\n",
    "    gray = cv2.cvtColor(image, cv2.COLOR_BGR2GRAY)\n",
    "    blurred = cv2.GaussianBlur(gray, (5, 5), 0)\n",
    "    _, thresh = cv2.threshold(blurred, 0, 255, cv2.THRESH_BINARY + cv2.THRESH_OTSU)\n",
    "    \n",
    "    contours, _ = cv2.findContours(thresh, cv2.RETR_EXTERNAL, cv2.CHAIN_APPROX_SIMPLE)\n",
    "    \n",
    "    if contours:\n",
    "        largest_contour = max(contours, key=cv2.contourArea)\n",
    "        x, y, bbox_w, bbox_h = cv2.boundingRect(largest_contour)\n",
    "        \n",
    "        pad_x = int(bbox_w * padding_ratio)\n",
    "        pad_y = int(bbox_h * padding_ratio)\n",
    "        \n",
    "        x = max(0, x - pad_x)\n",
    "        y = max(0, y - pad_y)\n",
    "        bbox_w = min(w - x, bbox_w + 2 * pad_x)\n",
    "        bbox_h = min(h - y, bbox_h + 2 * pad_y)\n",
    "        \n",
    "        center_x = (x + bbox_w / 2) / w\n",
    "        center_y = (y + bbox_h / 2) / h\n",
    "        norm_width = bbox_w / w\n",
    "        norm_height = bbox_h / h\n",
    "        \n",
    "        return (center_x, center_y, norm_width, norm_height)\n",
    "    else:\n",
    "        return (0.5, 0.5, 0.8, 0.8)"
   ]
  },
  {
   "cell_type": "code",
   "execution_count": null,
   "metadata": {},
   "outputs": [],
   "source": [
    "# Create YOLOv8 dataset structure\n",
    "yolo_path = Path(\"yolo_malaria\")\n",
    "for split in ['train', 'val', 'test']:\n",
    "    (yolo_path / split / \"images\").mkdir(parents=True, exist_ok=True)\n",
    "    (yolo_path / split / \"labels\").mkdir(parents=True, exist_ok=True)\n",
    "\n",
    "print(f\"Created YOLOv8 structure at: {yolo_path}\")"
   ]
  },
  {
   "cell_type": "code",
   "execution_count": null,
   "metadata": {},
   "outputs": [],
   "source": [
    "# Convert dataset to YOLO format\n",
    "kaggle_path = Path(kaggle_path)\n",
    "cell_images_path = None\n",
    "\n",
    "for root, dirs, files in os.walk(kaggle_path):\n",
    "    if 'Parasitized' in dirs and 'Uninfected' in dirs:\n",
    "        cell_images_path = Path(root)\n",
    "        break\n",
    "\n",
    "print(f\"Found cell images at: {cell_images_path}\")\n",
    "\n",
    "# Process images\n",
    "all_files = []\n",
    "for class_name in ['Parasitized', 'Uninfected']:\n",
    "    class_path = cell_images_path / class_name\n",
    "    class_files = list(class_path.glob('*.png'))\n",
    "    print(f\"Found {len(class_files)} images in {class_name}\")\n",
    "    \n",
    "    class_id = 0 if class_name == 'Parasitized' else None\n",
    "    for img_path in class_files:\n",
    "        all_files.append((img_path, class_id))\n",
    "\n",
    "# Split dataset\n",
    "random.shuffle(all_files)\n",
    "total = len(all_files)\n",
    "train_end = int(total * 0.7)\n",
    "val_end = int(total * 0.9)\n",
    "\n",
    "splits = {\n",
    "    'train': all_files[:train_end],\n",
    "    'val': all_files[train_end:val_end],\n",
    "    'test': all_files[val_end:]\n",
    "}\n",
    "\n",
    "print(f\"Dataset split: Train={len(splits['train'])}, Val={len(splits['val'])}, Test={len(splits['test'])}\")"
   ]
  },
  {
   "cell_type": "code",
   "execution_count": null,
   "metadata": {},
   "outputs": [],
   "source": [
    "# Convert and copy files\n",
    "for split_name, files in splits.items():\n",
    "    print(f\"Processing {split_name} split...\")\n",
    "    \n",
    "    images_dir = yolo_path / split_name / \"images\"\n",
    "    labels_dir = yolo_path / split_name / \"labels\"\n",
    "    \n",
    "    for i, (img_path, class_id) in enumerate(files):\n",
    "        if i % 1000 == 0:\n",
    "            print(f\"  Processed {i}/{len(files)} images\")\n",
    "            \n",
    "        new_img_name = f\"{split_name}_{i:06d}.png\"\n",
    "        new_img_path = images_dir / new_img_name\n",
    "        shutil.copy2(img_path, new_img_path)\n",
    "        \n",
    "        label_path = labels_dir / f\"{split_name}_{i:06d}.txt\"\n",
    "        \n",
    "        if class_id is not None:  # Parasitized\n",
    "            bbox = generate_cell_bbox(str(img_path))\n",
    "            with open(label_path, 'w') as f:\n",
    "                f.write(f\"{class_id} {bbox[0]:.6f} {bbox[1]:.6f} {bbox[2]:.6f} {bbox[3]:.6f}\\n\")\n",
    "        else:  # Uninfected\n",
    "            label_path.touch()\n",
    "    \n",
    "    print(f\"Completed {split_name}: {len(files)} images\")"
   ]
  },
  {
   "cell_type": "code",
   "execution_count": null,
   "metadata": {},
   "outputs": [],
   "source": [
    "# Create data.yaml\n",
    "yaml_content = f\"\"\"path: {yolo_path.absolute()}\n",
    "train: train/images\n",
    "val: val/images\n",
    "test: test/images\n",
    "\n",
    "nc: 1\n",
    "names: ['malaria_parasite']\n",
    "\"\"\"\n",
    "\n",
    "yaml_path = yolo_path / \"malaria_data.yaml\"\n",
    "with open(yaml_path, 'w') as f:\n",
    "    f.write(yaml_content)\n",
    "\n",
    "print(f\"Created data.yaml at: {yaml_path}\")"
   ]
  },
  {
   "cell_type": "markdown",
   "metadata": {},
   "source": [
    "## 3. Visualize Dataset Samples"
   ]
  },
  {
   "cell_type": "code",
   "execution_count": null,
   "metadata": {},
   "outputs": [],
   "source": [
    "# Visualize samples\n",
    "import matplotlib.patches as patches\n",
    "\n",
    "train_images = list((yolo_path / \"train\" / \"images\").glob(\"*.png\"))\n",
    "samples = random.sample(train_images, 6)\n",
    "\n",
    "fig, axes = plt.subplots(2, 3, figsize=(15, 10))\n",
    "axes = axes.flatten()\n",
    "\n",
    "for i, img_path in enumerate(samples):\n",
    "    image = Image.open(img_path)\n",
    "    w, h = image.size\n",
    "    \n",
    "    label_path = yolo_path / \"train\" / \"labels\" / f\"{img_path.stem}.txt\"\n",
    "    \n",
    "    axes[i].imshow(image)\n",
    "    axes[i].set_title(f\"Sample {i+1}\")\n",
    "    axes[i].axis('off')\n",
    "    \n",
    "    if label_path.exists() and label_path.stat().st_size > 0:\n",
    "        with open(label_path, 'r') as f:\n",
    "            line = f.readline().strip()\n",
    "            if line:\n",
    "                parts = line.split()\n",
    "                center_x, center_y, width, height = map(float, parts[1:5])\n",
    "                \n",
    "                x = (center_x - width/2) * w\n",
    "                y = (center_y - height/2) * h\n",
    "                box_w = width * w\n",
    "                box_h = height * h\n",
    "                \n",
    "                rect = patches.Rectangle((x, y), box_w, box_h, \n",
    "                                       linewidth=2, edgecolor='red', facecolor='none')\n",
    "                axes[i].add_patch(rect)\n",
    "                axes[i].text(x, y-5, 'Parasite', color='red', fontsize=10, weight='bold')\n",
    "\n",
    "plt.tight_layout()\n",
    "plt.show()"
   ]
  },
  {
   "cell_type": "markdown",
   "metadata": {},
   "source": [
    "## 4. Initialize YOLOv8 Model"
   ]
  },
  {
   "cell_type": "code",
   "execution_count": null,
   "metadata": {},
   "outputs": [],
   "source": [
    "# Initialize YOLOv8 model\n",
    "model = YOLO('yolov8n.pt')  # Load pretrained YOLOv8 nano model\n",
    "print(\"YOLOv8 model loaded successfully\")\n",
    "print(f\"Model parameters: {sum(p.numel() for p in model.model.parameters()):,}\")"
   ]
  },
  {
   "cell_type": "markdown",
   "metadata": {},
   "source": [
    "## 5. Configure Training Parameters"
   ]
  },
  {
   "cell_type": "code",
   "execution_count": null,
   "metadata": {},
   "outputs": [],
   "source": [
    "# Training configuration\n",
    "training_config = {\n",
    "    'data': str(yaml_path),\n",
    "    'epochs': 50,  # Reduced for Colab\n",
    "    'batch': 16,   # Adjust based on GPU memory\n",
    "    'imgsz': 640,\n",
    "    'lr0': 0.01,\n",
    "    'weight_decay': 0.0005,\n",
    "    'patience': 15,\n",
    "    'save_period': 10,\n",
    "    'device': 0 if torch.cuda.is_available() else 'cpu',\n",
    "    'workers': 2,  # Reduced for Colab\n",
    "    'project': 'malaria_detection',\n",
    "    'name': 'yolov8n_malaria',\n",
    "    'exist_ok': True,\n",
    "    'pretrained': True,\n",
    "    'optimizer': 'AdamW',\n",
    "    'verbose': True,\n",
    "    'seed': 42,\n",
    "    'deterministic': True,\n",
    "    'single_cls': True,  # Single class detection\n",
    "    'rect': False,  # Disable rectangular training for better augmentation\n",
    "    'cos_lr': True,  # Cosine learning rate scheduler\n",
    "    'close_mosaic': 10,  # Disable mosaic augmentation in last 10 epochs\n",
    "    'resume': False,\n",
    "    'amp': True,  # Automatic Mixed Precision\n",
    "    'fraction': 1.0,  # Use full dataset\n",
    "    'profile': False,\n",
    "    'freeze': None,\n",
    "    'multi_scale': False,\n",
    "    'overlap_mask': True,\n",
    "    'mask_ratio': 4,\n",
    "    'dropout': 0.0,\n",
    "    'val': True,\n",
    "    'split': 'val',\n",
    "    'save_json': True,\n",
    "    'save_hybrid': False,\n",
    "    'conf': None,\n",
    "    'iou': 0.7,\n",
    "    'max_det': 300,\n",
    "    'half': False,\n",
    "    'dnn': False,\n",
    "    'plots': True,\n",
    "    'source': None,\n",
    "    'show': False,\n",
    "    'save_txt': False,\n",
    "    'save_conf': False,\n",
    "    'save_crop': False,\n",
    "    'show_labels': True,\n",
    "    'show_conf': True,\n",
    "    'vid_stride': 1,\n",
    "    'stream_buffer': False,\n",
    "    'line_width': None,\n",
    "    'visualize': False,\n",
    "    'augment': False,\n",
    "    'agnostic_nms': False,\n",
    "    'classes': None,\n",
    "    'retina_masks': False,\n",
    "    'boxes': True,\n",
    "    'format': 'torchscript',\n",
    "    'keras': False,\n",
    "    'optimize': False,\n",
    "    'int8': False,\n",
    "    'dynamic': False,\n",
    "    'simplify': False,\n",
    "    'opset': None,\n",
    "    'workspace': 4,\n",
    "    'nms': False,\n",
    "    'batch_size': 1,\n",
    "}\n",
    "\n",
    "print(\"Training configuration:\")\n",
    "for key, value in training_config.items():\n",
    "    if key in ['data', 'epochs', 'batch', 'imgsz', 'lr0', 'device']:\n",
    "        print(f\"  {key}: {value}\")"
   ]
  },
  {
   "cell_type": "markdown",
   "metadata": {},
   "source": [
    "## 6. Start Training"
   ]
  },
  {
   "cell_type": "code",
   "execution_count": null,
   "metadata": {},
   "outputs": [],
   "source": [
    "# Start training\n",
    "print(\"Starting YOLOv8 training...\")\n",
    "print(f\"Training on device: {training_config['device']}\")\n",
    "print(f\"Dataset: {len(splits['train'])} train, {len(splits['val'])} val images\")\n",
    "\n",
    "results = model.train(**training_config)\n",
    "\n",
    "print(\"Training completed!\")\n",
    "print(f\"Best model saved at: {model.trainer.best}\")"
   ]
  },
  {
   "cell_type": "markdown",
   "metadata": {},
   "source": [
    "## 7. Evaluate Model"
   ]
  },
  {
   "cell_type": "code",
   "execution_count": null,
   "metadata": {},
   "outputs": [],
   "source": [
    "# Load best model for evaluation\n",
    "best_model = YOLO(model.trainer.best)\n",
    "\n",
    "# Validate on test set\n",
    "test_results = best_model.val(data=str(yaml_path), split='test')\n",
    "\n",
    "print(\"Test Results:\")\n",
    "print(f\"mAP50: {test_results.box.map50:.4f}\")\n",
    "print(f\"mAP50-95: {test_results.box.map:.4f}\")\n",
    "print(f\"Precision: {test_results.box.mp:.4f}\")\n",
    "print(f\"Recall: {test_results.box.mr:.4f}\")"
   ]
  },
  {
   "cell_type": "markdown",
   "metadata": {},
   "source": [
    "## 8. Test Inference"
   ]
  },
  {
   "cell_type": "code",
   "execution_count": null,
   "metadata": {},
   "outputs": [],
   "source": [
    "# Test inference on sample images\n",
    "test_images = list((yolo_path / \"test\" / \"images\").glob(\"*.png\"))[:6]\n",
    "\n",
    "fig, axes = plt.subplots(2, 3, figsize=(15, 10))\n",
    "axes = axes.flatten()\n",
    "\n",
    "for i, img_path in enumerate(test_images):\n",
    "    # Run inference\n",
    "    results = best_model(str(img_path))\n",
    "    \n",
    "    # Load original image\n",
    "    image = cv2.imread(str(img_path))\n",
    "    image = cv2.cvtColor(image, cv2.COLOR_BGR2RGB)\n",
    "    \n",
    "    # Draw predictions\n",
    "    if len(results[0].boxes) > 0:\n",
    "        boxes = results[0].boxes.xyxy.cpu().numpy()\n",
    "        confs = results[0].boxes.conf.cpu().numpy()\n",
    "        \n",
    "        for box, conf in zip(boxes, confs):\n",
    "            x1, y1, x2, y2 = box.astype(int)\n",
    "            cv2.rectangle(image, (x1, y1), (x2, y2), (255, 0, 0), 2)\n",
    "            cv2.putText(image, f'Parasite {conf:.2f}', (x1, y1-10), \n",
    "                       cv2.FONT_HERSHEY_SIMPLEX, 0.5, (255, 0, 0), 2)\n",
    "    \n",
    "    axes[i].imshow(image)\n",
    "    axes[i].set_title(f\"Test {i+1} - {len(results[0].boxes)} detections\")\n",
    "    axes[i].axis('off')\n",
    "\n",
    "plt.tight_layout()\n",
    "plt.show()"
   ]
  },
  {
   "cell_type": "markdown",
   "metadata": {},
   "source": [
    "## 9. Export Model"
   ]
  },
  {
   "cell_type": "code",
   "execution_count": null,
   "metadata": {},
   "outputs": [],
   "source": [
    "# Export model to different formats\n",
    "print(\"Exporting model...\")\n",
    "\n",
    "# Export to ONNX (recommended for production)\n",
    "onnx_path = best_model.export(format='onnx', optimize=True)\n",
    "print(f\"ONNX model exported to: {onnx_path}\")\n",
    "\n",
    "# Export to TorchScript\n",
    "torchscript_path = best_model.export(format='torchscript')\n",
    "print(f\"TorchScript model exported to: {torchscript_path}\")\n",
    "\n",
    "print(\"Model export completed!\")"
   ]
  },
  {
   "cell_type": "markdown",
   "metadata": {},
   "source": [
    "## 10. Download Results"
   ]
  },
  {
   "cell_type": "code",
   "execution_count": null,
   "metadata": {},
   "outputs": [],
   "source": [
    "# Create download package\n",
    "import zipfile\n",
    "\n",
    "# Create zip file with results\n",
    "with zipfile.ZipFile('malaria_detection_results.zip', 'w') as zipf:\n",
    "    # Add best model\n",
    "    zipf.write(model.trainer.best, 'best_model.pt')\n",
    "    \n",
    "    # Add exported models\n",
    "    if os.path.exists(onnx_path):\n",
    "        zipf.write(onnx_path, 'best_model.onnx')\n",
    "    if os.path.exists(torchscript_path):\n",
    "        zipf.write(torchscript_path, 'best_model.torchscript')\n",
    "    \n",
    "    # Add data config\n",
    "    zipf.write(yaml_path, 'malaria_data.yaml')\n",
    "    \n",
    "    # Add training results\n",
    "    results_dir = Path(model.trainer.save_dir)\n",
    "    for file in results_dir.glob('*.png'):\n",
    "        zipf.write(file, f'results/{file.name}')\n",
    "    \n",
    "    # Add metrics\n",
    "    if (results_dir / 'results.csv').exists():\n",
    "        zipf.write(results_dir / 'results.csv', 'results/training_metrics.csv')\n",
    "\n",
    "print(\"Results packaged in: malaria_detection_results.zip\")\n",
    "print(\"Download this file to use the trained model locally.\")\n",
    "\n",
    "# Display final summary\n",
    "print(\"\\n=== Training Summary ===\")\n",
    "print(f\"Model: YOLOv8n\")\n",
    "print(f\"Dataset: {len(all_files)} total images\")\n",
    "print(f\"Training time: ~{training_config['epochs']} epochs\")\n",
    "print(f\"Best mAP50: {test_results.box.map50:.4f}\")\n",
    "print(f\"Best model: {model.trainer.best}\")\n",
    "print(f\"ONNX export: {onnx_path}\")"
   ]
  }
 ],
 "metadata": {
  "accelerator": "GPU",
  "colab": {
   "gpuType": "T4",
   "provenance": []
  },
  "kernelspec": {
   "display_name": "Python 3",
   "name": "python3"
  },
  "language_info": {
   "name": "python"
  }
 },
 "nbformat": 4,
 "nbformat_minor": 0
}
